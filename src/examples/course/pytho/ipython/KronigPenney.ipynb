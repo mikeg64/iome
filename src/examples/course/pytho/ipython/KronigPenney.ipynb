{
 "cells": [
  {
   "cell_type": "markdown",
   "metadata": {},
   "source": [
    "#Introduction to Bandstructure: Kronig-Penney model of a solid\n",
    "\n",
    "This is a brief demonstration of what is possible in the notebook using a real model in physics. It is not intended to teach the details of the Kronig Penny model. \n",
    "\n",
    "Some things to bear in mind with this notebook:\n",
    "\n",
    "* Although the notebook is running in a web-browser, everything is running on my personal laptop! No internet connection is required other than for features that need the internet (such as the YouTube integration below). \n",
    "* The notebook is fully editable - The text, the code, everything.\n",
    "\n",
    "The notebook allows for several teaching styles.\n",
    "\n",
    "* We could refer the student to the theory in Kittel http://eu.wiley.com/WileyCDA/WileyTitle/productCd-EHEP000803.html\n",
    "\n",
    "* We could put the full theory here in the notebook. For example, here is the equation we need to solve to get the band structure of the Kronig-Penney model\n",
    "\n",
    "$$\\frac{\\beta^2-\\alpha^2}{2\\alpha\\beta} \\sinh(\\beta b) \\sin(\\alpha a) - \\cosh(\\beta b)\\cos(\\alpha a) = \\cos(a+b)k$$\n",
    "\n",
    "* We could include a video of a lecture..either locally or on YouTube. Here is a Kronig-Penney video I found on YouTube:\n",
    "\n"
   ]
  },
  {
   "cell_type": "code",
   "execution_count": 30,
   "metadata": {
    "collapsed": false,
    "scrolled": true
   },
   "outputs": [
    {
     "data": {
      "text/html": [
       "\n",
       "        <iframe\n",
       "            width=\"400\"\n",
       "            height=\"300\"\n",
       "            src=\"https://www.youtube.com/embed/UhFW_6xhpJA\"\n",
       "            frameborder=\"0\"\n",
       "            allowfullscreen\n",
       "        ></iframe>\n",
       "        "
      ],
      "text/plain": [
       "<IPython.lib.display.YouTubeVideo at 0x10b489210>"
      ]
     },
     "execution_count": 30,
     "metadata": {},
     "output_type": "execute_result"
    }
   ],
   "source": [
    "from IPython.display import YouTubeVideo\n",
    "YouTubeVideo(\"UhFW_6xhpJA\")"
   ]
  },
  {
   "cell_type": "markdown",
   "metadata": {},
   "source": [
    "We can do a step further and give the students executable code to allow them to calculate the bandstructure themselves.\n",
    "\n",
    "Even if they don't understand the code, they can modify parameters and see what the results might be. The program will be running on their own machine."
   ]
  },
  {
   "cell_type": "code",
   "execution_count": 31,
   "metadata": {
    "collapsed": false
   },
   "outputs": [
    {
     "data": {
      "image/png": "[encoded data removed]",
      "text/plain": [
       "<matplotlib.figure.Figure at 0x10597ddd0>"
      ]
     },
     "metadata": {},
     "output_type": "display_data"
    }
   ],
   "source": [
    "from numpy import abs,arccos,linspace,array,pi\n",
    "from cmath import sqrt,sin,cos,cosh,sinh\n",
    "from scipy import real_if_close\n",
    "import matplotlib.pyplot as plt\n",
    "from IPython.html.widgets import interact\n",
    "%matplotlib inline\n",
    "\n",
    "hbar = 1.05457*10**-34 \n",
    "echarge = 1.602*10**-19\n",
    "emass = 9.109*10**-31 \n",
    "\n",
    "def bandfunc(a,b,energy,v0):\n",
    "    #b is the width of the potential barriers and a is the distance between them\n",
    "    #energy is the value of energy in ElectronVolts that we are solving for\n",
    "    #v0 is the height of the potential barriers in ElectronVolts\n",
    "    if(energy==v0):\n",
    "        return(None)\n",
    "    result = None\n",
    "    energy = energy*echarge\n",
    "    v0 = v0*echarge\n",
    "    b = b*10**-10\n",
    "    a = a*10**-10\n",
    "    \n",
    "    alpha = sqrt((2*emass/hbar**2)*energy)\n",
    "    beta = sqrt(2*emass*(v0-energy)/hbar**2)\n",
    "    AlphaBeta_term = (beta**2 - alpha**2) /(2*alpha*beta)\n",
    "    trace = cos(alpha*a)*cosh(beta*b) + AlphaBeta_term*sin(alpha*a)*sinh(beta*b)\n",
    "    if abs(trace) < 1:\n",
    "        result = real_if_close(arccos(trace))\n",
    "    return(result)\n",
    "    \n",
    "\n",
    "def plotband(v0 = 6,a = 2.5,b = 2.5):\n",
    "    energy_array = linspace(0.1,30,10000)\n",
    "    #Calulate the positive k values\n",
    "    k_vals = array([bandfunc(a,b,energy,v0) for energy in energy_array])\n",
    "    #The negative k-values are just a mirror image of the positive ones\n",
    "    neg_k_vals = array([-k if k is not None else None for k in k_vals])\n",
    "    #generate the plot\n",
    "    plt.plot(k_vals,energy_array,'b');\n",
    "    plt.plot(neg_k_vals,energy_array,'b');\n",
    "    plt.axis([-pi,pi, 0,30])\n",
    "    plt.xlabel('Wavevector k(a+b)')\n",
    "    plt.ylabel('Energy (eV)')\n",
    "\n",
    "plotband(6,2.5,2.5)"
   ]
  },
  {
   "cell_type": "markdown",
   "metadata": {},
   "source": [
    "Alternatively, we can allow the students to interact with the model using sliders. No need for them to modify the code. Note that the calculations are being preformed in real time!"
   ]
  },
  {
   "cell_type": "code",
   "execution_count": 32,
   "metadata": {
    "collapsed": false
   },
   "outputs": [
    {
     "data": {
      "image/png": "[encoded data removed]",
      "text/plain": [
       "<matplotlib.figure.Figure at 0x108f20890>"
      ]
     },
     "metadata": {},
     "output_type": "display_data"
    }
   ],
   "source": [
    "interact(plotband,\n",
    "         v0=(0,10,0.1),\n",
    "         a=(0,5,0.1),\n",
    "         b=(0,5,0.1),\n",
    "        );"
   ]
  }
 ],
 "metadata": {
  "kernelspec": {
   "display_name": "Python 2",
   "language": "python",
   "name": "python2"
  },
  "language_info": {
   "codemirror_mode": {
    "name": "ipython",
    "version": 2
   },
   "file_extension": ".py",
   "mimetype": "text/x-python",
   "name": "python",
   "nbconvert_exporter": "python",
   "pygments_lexer": "ipython2",
   "version": "2.7.9"
  }
 },
 "nbformat": 4,
 "nbformat_minor": 0
}
