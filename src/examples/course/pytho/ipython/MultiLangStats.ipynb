{
 "metadata": {
  "name": "",
  "signature": "sha256:84937f023fb049b4e2dc2746cae8dd9d02b2035cf9243334839737008ae97ad7"
 },
 "nbformat": 3,
 "nbformat_minor": 0,
 "worksheets": [
  {
   "cells": [
    {
     "cell_type": "markdown",
     "metadata": {},
     "source": [
      "# Multi Language Monte Carlo\n",
      "\n",
      "We want to estimate the integral\n",
      "\n",
      "$$\\int^5_{-5} \\frac{exp(-u^2/2)}{\\sqrt{2\\pi}}du$$\n",
      "\n",
      "using a simple Monte Carlo rejection algorithm. The function is the standard normal distribution, so the integral is approximately equal to 1. \n",
      "\n",
      "Here, we use the IPython notebook (Soon to be called Project Jupyter) to demonstrate possible solutions in several languages.  Once you have this notebook set up correctly on your machine, all of the code below is editable and executable from within the web browser."
     ]
    },
    {
     "cell_type": "markdown",
     "metadata": {},
     "source": [
      "# Python\n",
      "\n",
      "A first attempt at a solution using pure Python might look like this"
     ]
    },
    {
     "cell_type": "code",
     "collapsed": false,
     "input": [
      "import random\n",
      "from math import exp, sqrt, pi\n",
      "\n",
      "def f(u):\n",
      "    return(exp(-u**2/2)/sqrt(2*pi))\n",
      "\n",
      "def loopy_monte(N):\n",
      "    hits = 0\n",
      "    for count in range(N):\n",
      "        x = random.uniform(-5,5)\n",
      "        y = random.uniform(0,0.5)\n",
      "        hits = hits + (y < f(x))\n",
      "        \n",
      "    estimate = hits / N * (0.5*10)\n",
      "    return(estimate)"
     ],
     "language": "python",
     "metadata": {},
     "outputs": [],
     "prompt_number": 1
    },
    {
     "cell_type": "markdown",
     "metadata": {},
     "source": [
      "Let's run the calculation for 1 million iterations"
     ]
    },
    {
     "cell_type": "code",
     "collapsed": false,
     "input": [
      "loopy_monte(10**6)"
     ],
     "language": "python",
     "metadata": {},
     "outputs": [
      {
       "metadata": {},
       "output_type": "pyout",
       "prompt_number": 50,
       "text": [
        "0.9976799999999999"
       ]
      }
     ],
     "prompt_number": 50
    },
    {
     "cell_type": "markdown",
     "metadata": {},
     "source": [
      "Note the **import** statements. Unlike languages such as MATLAB or R, Python has few functions built into its global namespace at startup. This means that even simple functions such as **sqrt** need to be explicity imported from a module. In the above code, we use the modules **random** and **math** which are part of the standard Python library, the set of modules that are included with every Python installation. \n",
      "\n",
      "It is possible to export everything from a module in one hit. Instead of\n",
      "\n",
      "`from math import exp,sqrt,pi`\n",
      "\n",
      "we might have done\n",
      "\n",
      "`from math import *`\n",
      "\n",
      "This idiom is commonly used but is considered bad practice. Python programmers would say that it is not *Pythonic*. The principle objection to this practice is that it pollutes your namespace with many functions -- many of which the user is probably unaware of. If you do multiple module imports in this manner, there is a good chance that function names from one module would overwrite those of a previous module.\n",
      "\n",
      "Let's time our function using IPython's `%timeit` magic"
     ]
    },
    {
     "cell_type": "code",
     "collapsed": false,
     "input": [
      "%timeit loopy_monte(10**6)"
     ],
     "language": "python",
     "metadata": {},
     "outputs": [
      {
       "output_type": "stream",
       "stream": "stdout",
       "text": [
        "1 loops, best of 3: 2.02 s per loop\n"
       ]
      }
     ],
     "prompt_number": 51
    },
    {
     "cell_type": "markdown",
     "metadata": {},
     "source": [
      "This might not seem too bad for 1 million iterations but we can do significantly better. As with many high-level languages, loops are very expensive in Python. One approach to making things faster is to **vectorise** our code.  That is, we operate on entire vectors at once rather than on scalars. This can be achieved in Python using the **numpy** module. \n",
      "\n",
      "Numpy is not part of the Python standard library and needs to be installed separately. It is, however, considered the de-facto standard for numerical computing in Python and is widely used. If you use a Python distribution such as Anaconda or Enthought, numpy will be available to import out of the box."
     ]
    },
    {
     "cell_type": "code",
     "collapsed": false,
     "input": [
      "import numpy as np\n",
      "\n",
      "def numpy_f(u):\n",
      "    return(np.exp(-u**2/2)/np.sqrt(2*np.pi))\n",
      "\n",
      "def numpy_monte(N):\n",
      "    x = np.random.uniform(-5,5,N)\n",
      "    y = np.random.uniform(0,0.5,N)\n",
      "    hits = np.sum(y<numpy_f(x))\n",
      "\n",
      "    estimate = hits / N * (0.5*10)\n",
      "    return(estimate)"
     ],
     "language": "python",
     "metadata": {},
     "outputs": [],
     "prompt_number": 120
    },
    {
     "cell_type": "code",
     "collapsed": false,
     "input": [
      "numpy_monte(10**6)"
     ],
     "language": "python",
     "metadata": {},
     "outputs": [
      {
       "metadata": {},
       "output_type": "pyout",
       "prompt_number": 70,
       "text": [
        "1.0013800000000002"
       ]
      }
     ],
     "prompt_number": 70
    },
    {
     "cell_type": "markdown",
     "metadata": {},
     "source": [
      "Note that we've had to do some extra work here in order to make vectorisation possible. In particular, we've had to redfine our function f to a version that uses numpy versions of **exp** and **sqrt**. This extra work is worth it, however, since we get significantly faster runtimes."
     ]
    },
    {
     "cell_type": "code",
     "collapsed": false,
     "input": [
      "%timeit numpy_monte(10**6)"
     ],
     "language": "python",
     "metadata": {},
     "outputs": [
      {
       "output_type": "stream",
       "stream": "stdout",
       "text": [
        "10 loops, best of 3: 70.5 ms per loop\n"
       ]
      }
     ],
     "prompt_number": 72
    },
    {
     "cell_type": "markdown",
     "metadata": {},
     "source": [
      "On my machine, I got times of **2.02 seconds** for the loopy version and **70.5 milliseconds** for the numpy version - a speed up of almost 29 times.\n",
      "\n",
      "Vectorisation is nothing special. We are still performing a loop but it's now implicit. Rather than perform the loop in Python, which is slow, we generate our data and ship it out to C or Fortran routines, where loops are cheap. This is the basis of vectorisation in many other languages such as R and MATLAB."
     ]
    },
    {
     "cell_type": "markdown",
     "metadata": {},
     "source": [
      "### Parallel Python\n",
      "\n",
      "There are several ways to go parallel in Python. Here, I use the IPython parallel infrastructure.\n",
      "\n",
      "First, you need to go to the Clusters tab of the Ipython dashboard and start a cluster with your required number of engines. I only have a dual core laptop, so I'll use 2. The following code will not work if you omit this step."
     ]
    },
    {
     "cell_type": "code",
     "collapsed": false,
     "input": [
      "from IPython import parallel\n",
      "\n",
      "clients = parallel.Client()\n",
      "clients.block = True\n",
      "print(clients.ids)\n",
      "\n",
      "dview = clients[:] # use all engines"
     ],
     "language": "python",
     "metadata": {},
     "outputs": [
      {
       "output_type": "stream",
       "stream": "stdout",
       "text": [
        "[0, 1]\n"
       ]
      }
     ],
     "prompt_number": 116
    },
    {
     "cell_type": "markdown",
     "metadata": {},
     "source": [
      "Whenever you run stochastic code in parallel, you need to think carefully about random number generators. The numpy random number generator is the Mersenne Twister algorithm which isn't ideal for parallel work but it's good enough in many instances. In this instance, we are going to give each engine its own seed to work with. This does not guarentee non-overlapping sub-streams but the probability that we are going to have an issue is extremely small. For our purposes here, it's probably going to be fine."
     ]
    },
    {
     "cell_type": "code",
     "collapsed": false,
     "input": [
      "import numpy as np\n",
      "\n",
      "def numpy_f(u):\n",
      "    return(np.exp(-u**2/2)/np.sqrt(2*np.pi))\n",
      "\n",
      "# Redefine numpy_monte to take a seed argument\n",
      "def numpy_monte(N,seed):\n",
      "    np.random.seed(seed)\n",
      "    x = np.random.uniform(-5,5,N)\n",
      "    y = np.random.uniform(0,0.5,N)\n",
      "    hits = np.sum(y<numpy_f(x))\n",
      "\n",
      "    estimate = hits / N * (0.5*10)\n",
      "    return(estimate)"
     ],
     "language": "python",
     "metadata": {},
     "outputs": [],
     "prompt_number": 121
    },
    {
     "cell_type": "code",
     "collapsed": false,
     "input": [
      "# First, we do this in serial\n",
      "# Set up\n",
      "cores = 2\n",
      "\n",
      "# This contains the number of iterations to be performed by each engine.\n",
      "# 10 times the number we did earlier. When working in parallel, you need to ensure that each engine has sufficent work to do to\n",
      "# ensure that communications overheads don't swamp the benefits\n",
      "N = [10**7]*cores\n",
      "\n",
      "seeds = range(0,cores) # A list of seeds, one for each engine\n",
      "\n",
      "# We use the map function to map numpy_monte over the lists created above\n",
      "# The total number of iterations will be cores * N\n",
      "%timeit estimate = sum(list(map(numpy_monte,N,seeds)))/cores\n",
      "\n",
      "#Display the esimate\n",
      "estimate"
     ],
     "language": "python",
     "metadata": {},
     "outputs": [
      {
       "output_type": "stream",
       "stream": "stdout",
       "text": [
        "1 loops, best of 3: 1.57 s per loop\n"
       ]
      },
      {
       "metadata": {},
       "output_type": "pyout",
       "prompt_number": 143,
       "text": [
        "0.99881999999999993"
       ]
      }
     ],
     "prompt_number": 143
    },
    {
     "cell_type": "markdown",
     "metadata": {},
     "source": [
      "Now we do it in Parallel using the engines created earlier\n",
      "First, we need to define our functions on our engines.  So far, we've only defined them locally. We use the px magic for this"
     ]
    },
    {
     "cell_type": "code",
     "collapsed": false,
     "input": [
      "%%px\n",
      "#Define all functions on the engines\n",
      "\n",
      "import numpy as np\n",
      "\n",
      "def numpy_f(u):\n",
      "    return(np.exp(-u**2/2)/np.sqrt(2*np.pi))\n",
      "\n",
      "# Redefine numpy_monte to take a seed argument\n",
      "def numpy_monte(N,seed):\n",
      "    np.random.seed(seed)\n",
      "    x = np.random.uniform(-5,5,N)\n",
      "    y = np.random.uniform(0,0.5,N)\n",
      "    hits = np.sum(y<numpy_f(x))\n",
      "\n",
      "    estimate = hits / N * (0.5*10)\n",
      "    return(estimate)"
     ],
     "language": "python",
     "metadata": {},
     "outputs": [],
     "prompt_number": 144
    },
    {
     "cell_type": "code",
     "collapsed": false,
     "input": [
      "#Do the work in parallel using the dview we created earlier\n",
      "%timeit estimate = sum(dview.map(numpy_monte,N,seeds))/cores\n",
      "\n",
      "#Print the result\n",
      "estimate"
     ],
     "language": "python",
     "metadata": {},
     "outputs": [
      {
       "output_type": "stream",
       "stream": "stdout",
       "text": [
        "1 loops, best of 3: 797 ms per loop\n"
       ]
      },
      {
       "metadata": {},
       "output_type": "pyout",
       "prompt_number": 145,
       "text": [
        "0.99881999999999993"
       ]
      }
     ],
     "prompt_number": 145
    },
    {
     "cell_type": "markdown",
     "metadata": {},
     "source": [
      "Two points to note here:\n",
      "\n",
      "* The parallel and serial results are identical and exactly reproducible thanks to the way we seeded the random number generator\n",
      "* We don't quite get N times speed up with N cores. This is because of communications overheads."
     ]
    },
    {
     "cell_type": "markdown",
     "metadata": {},
     "source": [
      "# MATLAB\n",
      "\n",
      "Although not supported by the default IPython install, it is possible to include MATLAB code within an IPython notebook. In order for this to work, you need a licensed verison of MATLAB on your machine and a copy of the python-matlab-bridge installed\n",
      "\n",
      "https://github.com/arokem/python-matlab-bridge\n",
      "\n",
      "First, the magic:"
     ]
    },
    {
     "cell_type": "code",
     "collapsed": false,
     "input": [
      "%load_ext pymatbridge"
     ],
     "language": "python",
     "metadata": {},
     "outputs": [
      {
       "output_type": "stream",
       "stream": "stdout",
       "text": [
        "Starting MATLAB on ZMQ socket ipc:///tmp/pymatbridge\n",
        "Send 'exit' command to kill the server\n",
        ".."
       ]
      },
      {
       "output_type": "stream",
       "stream": "stdout",
       "text": [
        ".."
       ]
      },
      {
       "output_type": "stream",
       "stream": "stdout",
       "text": [
        ".."
       ]
      },
      {
       "output_type": "stream",
       "stream": "stdout",
       "text": [
        ".."
       ]
      },
      {
       "output_type": "stream",
       "stream": "stdout",
       "text": [
        ".MATLAB started and connected!"
       ]
      },
      {
       "output_type": "stream",
       "stream": "stdout",
       "text": [
        "\n"
       ]
      }
     ],
     "prompt_number": 1
    },
    {
     "cell_type": "markdown",
     "metadata": {},
     "source": [
      "If the above command was successful, you can use the cell magic `%%matlab` to let IPython know that you'd like to execute the code in MATLAB."
     ]
    },
    {
     "cell_type": "code",
     "collapsed": false,
     "input": [
      "%%matlab \n",
      "a = linspace(-4,4,100);\n",
      "b = sin(a);\n",
      "plot(a,b)"
     ],
     "language": "python",
     "metadata": {},
     "outputs": [
      {
       "metadata": {},
       "output_type": "display_data",
       "png": "[encoded data removed]"
      }
     ],
     "prompt_number": 2
    },
    {
     "cell_type": "markdown",
     "metadata": {},
     "source": [
      "Armed with our new MATLAB magic, let's try a loopy solution in MATLAB."
     ]
    },
    {
     "cell_type": "code",
     "collapsed": false,
     "input": [
      "%%matlab\n",
      "format long\n",
      "\n",
      "N = 10^6;\n",
      "hits = 0;\n",
      "tic\n",
      "for count = 1:N\n",
      "    x = rand() * 10 - 5;\n",
      "    y = rand() * 0.5;\n",
      "    hits = hits + ( y < (exp(-x^2/2) / sqrt(2*pi)) ); \n",
      "end\n",
      "estimate = hits / N * (0.5*10)\n",
      "toc\n",
      "\n"
     ],
     "language": "python",
     "metadata": {},
     "outputs": [
      {
       "metadata": {},
       "output_type": "display_data",
       "text": [
        "\n",
        "estimate =\n",
        "\n",
        "   0.998805000000000\n",
        "\n",
        "Elapsed time is 5.081431 seconds.\n"
       ]
      }
     ],
     "prompt_number": 3
    },
    {
     "cell_type": "markdown",
     "metadata": {},
     "source": [
      "That's much slower than I expected it to be! The problem here is that most of the time is, in fact, overhead of the MATLAB-Python bridge. This is rather unfair on MATLAB so let's create an .m file containing our code and run that instead"
     ]
    },
    {
     "cell_type": "code",
     "collapsed": false,
     "input": [
      "%%writefile loopy_monte.m\n",
      "function estimate = loopy_monte(N)\n",
      "\n",
      "hits = 0;\n",
      "tic\n",
      "for count = 1:N\n",
      "    x = rand() * 10 - 5;\n",
      "    y = rand() * 0.5;\n",
      "    hits = hits + ( y < (exp(-x^2/2) / sqrt(2*pi)) ); \n",
      "end\n",
      "estimate = hits / N * (0.5*10);\n",
      "toc"
     ],
     "language": "python",
     "metadata": {},
     "outputs": [
      {
       "output_type": "stream",
       "stream": "stdout",
       "text": [
        "Overwriting loopy_monte.m\n"
       ]
      }
     ],
     "prompt_number": 4
    },
    {
     "cell_type": "markdown",
     "metadata": {},
     "source": [
      "This allows us to run the MATLAB code from within our Ipython notebook with the minimum of overhead"
     ]
    },
    {
     "cell_type": "code",
     "collapsed": false,
     "input": [
      "from pymatbridge import Matlab\n",
      "\n",
      "# Start a MATLAB session\n",
      "mlab = Matlab()\n",
      "mlab.start()\n",
      "\n",
      "# Change MATLAB's working directory to match Ipython's current working directory\n",
      "current_dir = %pwd\n",
      "mlab.run_code('cd ' + current_dir)\n",
      "\n",
      "# Run the code in MATLAB and print the results\n",
      "results = mlab.run_code('loopy_monte(10^6)')\n",
      "print(results['content']['stdout'])\n",
      "\n",
      "# Stop the MATLAB session\n",
      "mlab.stop()\n"
     ],
     "language": "python",
     "metadata": {},
     "outputs": [
      {
       "output_type": "stream",
       "stream": "stdout",
       "text": [
        "Starting MATLAB on ZMQ socket ipc:///tmp/pymatbridge\n",
        "Send 'exit' command to kill the server\n",
        ".MATLAB started and connected!"
       ]
      },
      {
       "output_type": "stream",
       "stream": "stdout",
       "text": [
        "\n",
        "Elapsed time is 0.253124 seconds.\n",
        "\n",
        "ans =\n",
        "\n",
        "   0.999335000000000\n",
        "\n"
       ]
      },
      {
       "output_type": "stream",
       "stream": "stdout",
       "text": [
        "\n",
        "MATLAB closed\n"
       ]
      },
      {
       "metadata": {},
       "output_type": "pyout",
       "prompt_number": 5,
       "text": [
        "True"
       ]
      }
     ],
     "prompt_number": 5
    },
    {
     "cell_type": "markdown",
     "metadata": {},
     "source": [
      "The time shown above matches what I get when I run the code directly in MATLAB so the Python-MATLAB-bridge overhead is now rather small.\n",
      "\n",
      "As with other interpreted languages, it is not considered good practice to solve this type of problem using loops in MATLAB. However, MATLAB punishes you a lot less for using loops than Python or R does. The loopy MATLAB version is over 10 times faster than the loopy Python version on my machine. This is because MATLAB has a very high quality JIT (Just In Time) compiler whereas standard Python or R does not.\n",
      "\n",
      "Despite the JIT compiler, it is often still faster to convert from loops to vectorised code in MATLAB and that is the case here"
     ]
    },
    {
     "cell_type": "code",
     "collapsed": false,
     "input": [
      "%%writefile vector_monte.m\n",
      "function estimate = vector_monte(N)\n",
      "% A vectorised version of our monte carlo code\n",
      "tic\n",
      "x = rand(1,N) * 10 - 5;\n",
      "y = rand(1,N) * 0.5;\n",
      "hits = ( sum(y < (exp(-x.^2/2) / sqrt(2*pi))) ); \n",
      "estimate = hits / N * (0.5*10);\n",
      "toc"
     ],
     "language": "python",
     "metadata": {},
     "outputs": [
      {
       "output_type": "stream",
       "stream": "stdout",
       "text": [
        "Overwriting vector_monte.m\n"
       ]
      }
     ],
     "prompt_number": 6
    },
    {
     "cell_type": "code",
     "collapsed": false,
     "input": [
      "from pymatbridge import Matlab\n",
      "\n",
      "# Start a MATLAB session\n",
      "mlab = Matlab()\n",
      "mlab.start()\n",
      "\n",
      "# Change MATLAB's working directory to match Ipython's current working directory\n",
      "current_dir = %pwd\n",
      "mlab.run_code('cd ' + current_dir)\n",
      "\n",
      "# Run the code in MATLAB and print the results\n",
      "results = mlab.run_code('vector_monte(10^6)')\n",
      "print(results['content']['stdout'])\n",
      "\n",
      "# Stop the MATLAB session\n",
      "mlab.stop()"
     ],
     "language": "python",
     "metadata": {},
     "outputs": [
      {
       "output_type": "stream",
       "stream": "stdout",
       "text": [
        "Starting MATLAB on ZMQ socket ipc:///tmp/pymatbridge\n",
        "Send 'exit' command to kill the server\n",
        ".MATLAB started and connected!"
       ]
      },
      {
       "output_type": "stream",
       "stream": "stdout",
       "text": [
        "\n",
        "Elapsed time is 0.064763 seconds.\n",
        "\n",
        "ans =\n",
        "\n",
        "    1.0001\n",
        "\n"
       ]
      },
      {
       "output_type": "stream",
       "stream": "stdout",
       "text": [
        "\n",
        "MATLAB closed\n"
       ]
      },
      {
       "metadata": {},
       "output_type": "pyout",
       "prompt_number": 60,
       "text": [
        "True"
       ]
      }
     ],
     "prompt_number": 60
    },
    {
     "cell_type": "markdown",
     "metadata": {},
     "source": [
      "This is almost twice as fast as the loopy version on my machine and is around the same speed as the Python/Numpy version."
     ]
    },
    {
     "cell_type": "markdown",
     "metadata": {},
     "source": [
      "# Parallel MATLAB"
     ]
    },
    {
     "cell_type": "markdown",
     "metadata": {},
     "source": [
      "One of the issues with straight vectorisation is that it uses a lot of memory. For example, say you wanted to evaluate $5*10^8$\n",
      "iterations, the x vector alone would use almost 4Gb - pretty much all the memory available on low-end laptops.\n",
      "\n",
      "The solution is to mix vectorisation and for-loops"
     ]
    },
    {
     "cell_type": "code",
     "collapsed": false,
     "input": [
      "%%writefile serial_monte.m\n",
      "function estimate = par_monte(N,jobs)\n",
      "tic\n",
      "estimate = 0;\n",
      "for i=1:jobs\n",
      "    x = rand(1,N) * 10 - 5;\n",
      "    y = rand(1,N) * 0.5;\n",
      "    hits = ( sum(y < (exp(-x.^2/2) / sqrt(2*pi))) ); \n",
      "    estimate = estimate + (hits / N * (0.5*10));\n",
      "end\n",
      "estimate = estimate / jobs\n",
      "toc"
     ],
     "language": "python",
     "metadata": {},
     "outputs": [
      {
       "output_type": "stream",
       "stream": "stdout",
       "text": [
        "Overwriting serial_monte.m\n"
       ]
      }
     ],
     "prompt_number": 7
    },
    {
     "cell_type": "markdown",
     "metadata": {},
     "source": [
      "Now I can split my $5*10^8$ iterations into 100 smaller vectorised jobs of $5*10^6$ each. Memory's no longer an issue."
     ]
    },
    {
     "cell_type": "code",
     "collapsed": false,
     "input": [
      "from pymatbridge import Matlab\n",
      "\n",
      "# Start a MATLAB session\n",
      "mlab = Matlab()\n",
      "mlab.start()\n",
      "\n",
      "# Change MATLAB's working directory to match Ipython's current working directory\n",
      "current_dir = %pwd\n",
      "mlab.run_code('cd ' + current_dir)\n",
      "\n",
      "# Run the code in MATLAB and print the results\n",
      "results = mlab.run_code('serial_monte(5*10^6,100)')\n",
      "print(results['content']['stdout'])\n",
      "\n",
      "# Stop the MATLAB session\n",
      "mlab.stop()"
     ],
     "language": "python",
     "metadata": {},
     "outputs": [
      {
       "output_type": "stream",
       "stream": "stdout",
       "text": [
        "Starting MATLAB on ZMQ socket ipc:///tmp/pymatbridge\n",
        "Send 'exit' command to kill the server\n",
        ".MATLAB started and connected!"
       ]
      },
      {
       "output_type": "stream",
       "stream": "stdout",
       "text": [
        "\n",
        "\n",
        "estimate =\n",
        "\n",
        "    1.0000\n",
        "\n",
        "Elapsed time is 23.162530 seconds.\n",
        "\n",
        "ans =\n",
        "\n",
        "    1.0000\n",
        "\n"
       ]
      },
      {
       "output_type": "stream",
       "stream": "stdout",
       "text": [
        "\n",
        "MATLAB closed\n"
       ]
      },
      {
       "metadata": {},
       "output_type": "pyout",
       "prompt_number": 8,
       "text": [
        "True"
       ]
      }
     ],
     "prompt_number": 8
    },
    {
     "cell_type": "markdown",
     "metadata": {},
     "source": [
      "Converting to parallel MATLAB is easy in this instance as long as we have access to the Parallel Computing Toolbox. we just type three letters and turn `for` into `parfor`"
     ]
    },
    {
     "cell_type": "code",
     "collapsed": false,
     "input": [
      "%%writefile par_monte.m\n",
      "function estimate = par_monte(N,jobs)\n",
      "tic\n",
      "estimate = 0;\n",
      "parfor i=1:jobs\n",
      "    x = rand(1,N) * 10 - 5;\n",
      "    y = rand(1,N) * 0.5;\n",
      "    hits = ( sum(y < (exp(-x.^2/2) / sqrt(2*pi))) ); \n",
      "    estimate = estimate + (hits / N * (0.5*10));\n",
      "end\n",
      "estimate = estimate / jobs\n",
      "toc"
     ],
     "language": "python",
     "metadata": {},
     "outputs": [
      {
       "output_type": "stream",
       "stream": "stdout",
       "text": [
        "Overwriting par_monte.m\n"
       ]
      }
     ],
     "prompt_number": 9
    },
    {
     "cell_type": "code",
     "collapsed": false,
     "input": [
      "from pymatbridge import Matlab\n",
      "\n",
      "# Start a MATLAB session\n",
      "mlab = Matlab()\n",
      "mlab.start()\n",
      "\n",
      "# Change MATLAB's working directory to match Ipython's current working directory\n",
      "current_dir = %pwd\n",
      "mlab.run_code('cd ' + current_dir)\n",
      "# Open the parallel pool\n",
      "mlab.run_code('parpool local')\n",
      "\n",
      "# Run the code in MATLAB and print the results\n",
      "results = mlab.run_code('par_monte(5*10^6,100)')\n",
      "print(results['content']['stdout'])\n",
      "\n",
      "# Stop the MATLAB session\n",
      "mlab.stop()"
     ],
     "language": "python",
     "metadata": {},
     "outputs": [
      {
       "output_type": "stream",
       "stream": "stdout",
       "text": [
        "Starting MATLAB on ZMQ socket ipc:///tmp/pymatbridge\n",
        "Send 'exit' command to kill the server\n",
        ".."
       ]
      },
      {
       "output_type": "stream",
       "stream": "stdout",
       "text": [
        ".."
       ]
      },
      {
       "output_type": "stream",
       "stream": "stdout",
       "text": [
        ".MATLAB started and connected!"
       ]
      },
      {
       "output_type": "stream",
       "stream": "stdout",
       "text": [
        "\n",
        "\n",
        "estimate =\n",
        "\n",
        "    1.0000\n",
        "\n",
        "Elapsed time is 20.719257 seconds.\n",
        "\n",
        "ans =\n",
        "\n",
        "    1.0000\n",
        "\n"
       ]
      },
      {
       "output_type": "stream",
       "stream": "stdout",
       "text": [
        "\n",
        "MATLAB closed\n"
       ]
      },
      {
       "metadata": {},
       "output_type": "pyout",
       "prompt_number": 10,
       "text": [
        "True"
       ]
      }
     ],
     "prompt_number": 10
    },
    {
     "cell_type": "markdown",
     "metadata": {},
     "source": [
      "A couple of things to note here\n",
      "\n",
      "* There isn't much speed up in this instance - much less than a faxtor of 2. This is probably because communication overhead is killing the benefit of multiple cores. We could try fiddling with the size of each job or adding cores to improve this.\n",
      "* The parallel computing toolbox is not part of core MATLAB, it costs extra\n",
      "* The default random number generator in MATLAB is Mersenne Twister. However, inside a parfor loop this silently changes to use a different random number generator that has better properties for parallel work. You should bear this mind when you need your work to be reproducible or if you are comparing with other languages that do use Mersenne Twister"
     ]
    },
    {
     "cell_type": "markdown",
     "metadata": {},
     "source": [
      "# R"
     ]
    },
    {
     "cell_type": "markdown",
     "metadata": {},
     "source": [
      "It is also possible to run R code in the IPython notebook. To do this, you need the latest copy of R installed on your system along with the rpy2 module. I installed rpy2 with the following command in a terminal window\n",
      "\n",
      "`pip install rpy2`\n",
      "\n",
      "Once this has been done, We need to load the rmagic extension"
     ]
    },
    {
     "cell_type": "code",
     "collapsed": false,
     "input": [
      "%load_ext rmagic"
     ],
     "language": "python",
     "metadata": {},
     "outputs": [
      {
       "output_type": "stream",
       "stream": "stdout",
       "text": [
        "The rmagic extension is already loaded. To reload it, use:\n",
        "  %reload_ext rmagic\n"
       ]
      }
     ],
     "prompt_number": 62
    },
    {
     "cell_type": "markdown",
     "metadata": {},
     "source": [
      "Any cell that we start with `%%R` will have its code run in an R session. Here is the code that Colin used to plot the function we want to integrate"
     ]
    },
    {
     "cell_type": "code",
     "collapsed": false,
     "input": [
      "%%R\n",
      "\n",
      "f = function(u) exp(-u^2/2)/sqrt(2*pi)\n",
      "x = seq(-5, 5, length.out = 100)\n",
      "plot(x, f(x), type=\"l\", ylim=c(0, 0.5))\n",
      "abline(h=0, lty=4, col=4);abline(h=0.5, lty=3, col=4); abline(v=c(-5, 5), lty=4, col=4)"
     ],
     "language": "python",
     "metadata": {},
     "outputs": [
      {
       "metadata": {},
       "output_type": "display_data",
       "png": "[encoded data removed]"
      }
     ],
     "prompt_number": 65
    },
    {
     "cell_type": "markdown",
     "metadata": {},
     "source": [
      "Here is the R solution using loops. As with Python and MATLAB, loops are not reccommended in R. This code is based on the original version written by Colin (downloaded 19th November 2014) but changed so that N is 10^6 rather than 10^5 to keep it on par with our other examples."
     ]
    },
    {
     "cell_type": "code",
     "collapsed": false,
     "input": [
      "%%R -o estimate\n",
      "# start the clock\n",
      "start_time = proc.time()\n",
      "f = function(u) exp(-u^2/2)/sqrt(2*pi)\n",
      "\n",
      "simulate_pt = function(i){\n",
      "    x = runif(1,-5,5); y = runif(1,0,0.5);\n",
      "    y < f(x)\n",
      "}\n",
      "\n",
      "N = 10^6; hits = 0\n",
      "for(i in 1:N)\n",
      " hits = hits + simulate_pt() \n",
      "(estimate = hits/N*(0.5*10))\n",
      "\n",
      "#Stop the clock\n",
      "print(proc.time() - start_time)\n",
      "print(estimate)\n"
     ],
     "language": "python",
     "metadata": {},
     "outputs": [
      {
       "metadata": {},
       "output_type": "display_data",
       "text": [
        "   user  system elapsed \n",
        " 11.533   0.124  11.661 \n",
        "[1] 0.9953\n"
       ]
      }
     ],
     "prompt_number": 95
    },
    {
     "cell_type": "markdown",
     "metadata": {},
     "source": [
      "On my machine, this took over 11.6. seconds! Almost 6 times slower than the equivalent loop in Python and over 70 times slower than the equivalent loop in MATLAB. R seems to **really** punish you for using loops.\n",
      "\n",
      "As with MATLAB, there is a risk that all we are measuring here is the overhead on the connection between R and IPython. Although there is some overhead, it appears to be much less of an issue.\n",
      "\n",
      "Let's write the above code to a file and execute it in R via the shell."
     ]
    },
    {
     "cell_type": "code",
     "collapsed": false,
     "input": [
      "%%writefile loop_monte.R\n",
      "# start the clock\n",
      "start_time = proc.time()\n",
      "f = function(u) exp(-u^2/2)/sqrt(2*pi)\n",
      "\n",
      "simulate_pt = function(i){\n",
      "    x = runif(1,-5,5); y = runif(1,0,0.5);\n",
      "    y < f(x)\n",
      "}\n",
      "\n",
      "N = 10^6; hits = 0\n",
      "for(i in 1:N)\n",
      " hits = hits + simulate_pt() \n",
      "(estimate = hits/N*(0.5*10))\n",
      "\n",
      "#Stop the clock\n",
      "print(proc.time() - start_time)\n",
      "print(estimate)"
     ],
     "language": "python",
     "metadata": {},
     "outputs": [
      {
       "output_type": "stream",
       "stream": "stdout",
       "text": [
        "Overwriting loop_monte.R\n"
       ]
      }
     ],
     "prompt_number": 91
    },
    {
     "cell_type": "code",
     "collapsed": false,
     "input": [
      "!R --vanilla < loop_monte.R"
     ],
     "language": "python",
     "metadata": {},
     "outputs": [
      {
       "output_type": "stream",
       "stream": "stdout",
       "text": [
        "\r\n",
        "R version 3.1.2 (2014-10-31) -- \"Pumpkin Helmet\"\r\n",
        "Copyright (C) 2014 The R Foundation for Statistical Computing\r\n",
        "Platform: x86_64-apple-darwin13.4.0 (64-bit)\r\n",
        "\r\n",
        "R is free software and comes with ABSOLUTELY NO WARRANTY.\r\n",
        "You are welcome to redistribute it under certain conditions.\r\n",
        "Type 'license()' or 'licence()' for distribution details.\r\n",
        "\r\n",
        "  Natural language support but running in an English locale\r\n",
        "\r\n",
        "R is a collaborative project with many contributors.\r\n",
        "Type 'contributors()' for more information and\r\n",
        "'citation()' on how to cite R or R packages in publications.\r\n",
        "\r\n",
        "Type 'demo()' for some demos, 'help()' for on-line help, or\r\n",
        "'help.start()' for an HTML browser interface to help.\r\n",
        "Type 'q()' to quit R.\r\n",
        "\r\n"
       ]
      },
      {
       "output_type": "stream",
       "stream": "stdout",
       "text": [
        "> # start the clock\r\n",
        "> start_time = proc.time()\r\n",
        "> f = function(u) exp(-u^2/2)/sqrt(2*pi)\r\n",
        "> \r\n",
        "> simulate_pt = function(i){\r\n",
        "+     x = runif(1,-5,5); y = runif(1,0,0.5);\r\n",
        "+     y < f(x)\r\n",
        "+ }\r\n",
        "> \r\n",
        "> N = 10^6; hits = 0\r\n",
        "> for(i in 1:N)\r\n",
        "+  hits = hits + simulate_pt() \r\n"
       ]
      },
      {
       "output_type": "stream",
       "stream": "stdout",
       "text": [
        "> (estimate = hits/N*(0.5*10))\r\n",
        "[1] 0.996925\r\n",
        "> \r\n",
        "> #Stop the clock\r\n",
        "> print(proc.time() - start_time)\r\n",
        "   user  system elapsed \r\n",
        " 10.180   0.050  10.303 \r\n",
        "> print(estimate)\r\n",
        "[1] 0.996925\r\n",
        "> \r\n"
       ]
      }
     ],
     "prompt_number": 92
    },
    {
     "cell_type": "markdown",
     "metadata": {},
     "source": [
      "So, 11.68 seconds via the R connector and 10.3 seconds if run directly in the shell. Either way, it's the slowest solution so far."
     ]
    },
    {
     "cell_type": "markdown",
     "metadata": {},
     "source": [
      "Vectorisation is pretty much essential in R. Here's the vecorisd version given by Colin. Although the R connector is nice, I'll run it in the shell to give a better idea of the speed difference."
     ]
    },
    {
     "cell_type": "code",
     "collapsed": false,
     "input": [
      "%%writefile vector_monte.R\n",
      "start_time = proc.time()\n",
      "N=10^6\n",
      "f = function(u) exp(-u^2/2)/sqrt(2*pi)\n",
      "estimate = sum(runif(N, 0, 0.5) < f(runif(N, -5, 5)))/N*(0.5*10)\n",
      "\n",
      "print(proc.time() - start_time)\n",
      "print(estimate)"
     ],
     "language": "python",
     "metadata": {},
     "outputs": [
      {
       "output_type": "stream",
       "stream": "stdout",
       "text": [
        "Overwriting vector_monte.R\n"
       ]
      }
     ],
     "prompt_number": 98
    },
    {
     "cell_type": "code",
     "collapsed": false,
     "input": [
      "!R --vanilla < vector_monte.R"
     ],
     "language": "python",
     "metadata": {},
     "outputs": [
      {
       "output_type": "stream",
       "stream": "stdout",
       "text": [
        "\r\n",
        "R version 3.1.2 (2014-10-31) -- \"Pumpkin Helmet\"\r\n",
        "Copyright (C) 2014 The R Foundation for Statistical Computing\r\n",
        "Platform: x86_64-apple-darwin13.4.0 (64-bit)\r\n",
        "\r\n",
        "R is free software and comes with ABSOLUTELY NO WARRANTY.\r\n",
        "You are welcome to redistribute it under certain conditions.\r\n",
        "Type 'license()' or 'licence()' for distribution details.\r\n",
        "\r\n",
        "  Natural language support but running in an English locale\r\n",
        "\r\n",
        "R is a collaborative project with many contributors.\r\n",
        "Type 'contributors()' for more information and\r\n",
        "'citation()' on how to cite R or R packages in publications.\r\n",
        "\r\n",
        "Type 'demo()' for some demos, 'help()' for on-line help, or\r\n",
        "'help.start()' for an HTML browser interface to help.\r\n",
        "Type 'q()' to quit R.\r\n",
        "\r\n"
       ]
      },
      {
       "output_type": "stream",
       "stream": "stdout",
       "text": [
        "> start_time = proc.time()\r\n",
        "> N=10^6\r\n",
        "> f = function(u) exp(-u^2/2)/sqrt(2*pi)\r\n",
        "> estimate = sum(runif(N, 0, 0.5) < f(runif(N, -5, 5)))/N*(0.5*10)\r\n"
       ]
      },
      {
       "output_type": "stream",
       "stream": "stdout",
       "text": [
        "> \r\n",
        "> print(proc.time() - start_time)\r\n"
       ]
      },
      {
       "output_type": "stream",
       "stream": "stdout",
       "text": [
        "   user  system elapsed \r\n",
        "  0.246   0.013   0.260 \r\n",
        "> print(estimate)\r\n",
        "[1] 0.999495\r\n",
        "> \r\n"
       ]
      }
     ],
     "prompt_number": 100
    },
    {
     "cell_type": "markdown",
     "metadata": {},
     "source": [
      "On my machine, this comes out at 0.26 seconds giving the slowest vectorised solution we've seen so far."
     ]
    }
   ],
   "metadata": {}
  }
 ]
}