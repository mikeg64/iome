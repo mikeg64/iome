{
 "metadata": {
  "name": ""
 },
 "nbformat": 3,
 "nbformat_minor": 0,
 "worksheets": [
  {
   "cells": [
    {
     "cell_type": "code",
     "collapsed": false,
     "input": [
      "from numpy import *\n",
      "from os import *\n",
      "\n",
      "import matplotlib.pyplot as plt\n",
      "import numpy as np\n",
      "import math\n",
      "\n",
      "\n",
      "\n",
      "%matplotlib inline \n",
      "\n",
      "# This is an example use of the plot function \n",
      "# used in association with the finding of a root\n",
      "# problem solved earlier.\n",
      "# % a is the lower value of the range\n",
      "# b is the upper value of the range\n",
      "eps=0.0000001\n",
      "inf=9.9e30\n",
      "a = 0.0\n",
      "fa = -inf\n",
      "x = 3.0\n",
      "fb = inf\n",
      "b=x\n",
      "delta = (b-a)/100.0\n",
      "\n"
     ],
     "language": "python",
     "metadata": {},
     "outputs": [],
     "prompt_number": 2
    },
    {
     "cell_type": "code",
     "collapsed": false,
     "input": [
      "xx = np.arange(a,b,delta)\n",
      "asize=xx.size\n",
      "yy = np.zeros(asize)\n",
      "for i in range(1,asize):\n",
      "    yy[i]=0.5*sin(2*(xx[i]-(math.pi/4)))+0.5*sin(xx[i]);"
     ],
     "language": "python",
     "metadata": {},
     "outputs": [],
     "prompt_number": 3
    },
    {
     "cell_type": "code",
     "collapsed": false,
     "input": [
      "while (sqrt(math.pow(x-a,2)))>eps:\n",
      "  a=x;\n",
      "  fx = 0.5*sin(2*(x-(math.pi/4)))+0.5*sin(x);\n",
      "  dfx= cos(2*(x-(math.pi/4)))+0.5*cos(x);\n",
      "  x=a-(fx/dfx);\n",
      "  print x-a"
     ],
     "language": "python",
     "metadata": {},
     "outputs": [
      {
       "output_type": "stream",
       "stream": "stdout",
       "text": [
        "-0.528820929107\n",
        "0.144040769834\n",
        "0.0027718406893\n",
        "2.19657444189e-06\n",
        "1.3931078513e-12\n"
       ]
      }
     ],
     "prompt_number": 4
    },
    {
     "cell_type": "code",
     "collapsed": false,
     "input": [
      "print ' The root is :',x\n",
      "plt.plot(xx,yy)"
     ],
     "language": "python",
     "metadata": {},
     "outputs": [
      {
       "output_type": "stream",
       "stream": "stdout",
       "text": [
        " The root is : 2.61799387799\n"
       ]
      },
      {
       "metadata": {},
       "output_type": "pyout",
       "prompt_number": 5,
       "text": [
        "[<matplotlib.lines.Line2D at 0x105b06090>]"
       ]
      },
      {
       "metadata": {},
       "output_type": "display_data",
       "png": "[encoded data removed]",
       "text": [
        "<matplotlib.figure.Figure at 0x105ade810>"
       ]
      }
     ],
     "prompt_number": 5
    },
    {
     "cell_type": "code",
     "collapsed": false,
     "input": [],
     "language": "python",
     "metadata": {},
     "outputs": []
    }
   ],
   "metadata": {}
  }
 ]
}